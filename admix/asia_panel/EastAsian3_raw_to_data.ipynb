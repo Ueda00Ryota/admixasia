{
 "cells": [
  {
   "cell_type": "code",
   "execution_count": 5,
   "metadata": {},
   "outputs": [
    {
     "name": "stdout",
     "output_type": "stream",
     "text": [
      "/mnt/c/python_files/django_python/django_admix/admix-master/admix-master/admix/data\n"
     ]
    },
    {
     "data": {
      "text/plain": [
       "'/mnt/c/python_files/django_python/django_admix/admix-master/admix-master/admix/data'"
      ]
     },
     "execution_count": 5,
     "metadata": {},
     "output_type": "execute_result"
    }
   ],
   "source": [
    "%cd /mnt/c/python_files/django_python/django_admix/admix-master/admix-master/admix/data\n",
    "%pwd"
   ]
  },
  {
   "cell_type": "code",
   "execution_count": null,
   "metadata": {},
   "outputs": [],
   "source": [
    "import pandas as pd\n",
    "# パネル情報読み込み\n",
    "dfsnp = pd.read_csv(\"/mnt/c/python_files/django_python/django_admix/admix-master/admix-master/admix/asia_panel/JPN_KOH_HUN_SNPs.csv\")\n",
    "# allelesとFに分割\n",
    "dfrs = pd.DataFrame(dfsnp.loc[:,[\"dbSNP rsID\",\"Ref Allele\"]])\n",
    "dffre = pd.DataFrame(dfsnp.loc[:,[\"Han\",\"Japanese\",\"Korean\"]])\n",
    "# Ref Allelesの相補鎖を追加\n",
    "dfrs[\"Allele\"] = dfrs['Ref Allele']\n",
    "dfrs[\"Allele\"].replace({'A':'T','G':'C','T':'A','C':'G'},inplace = True)\n",
    "dfrs.to_csv(\"EastAsia3.alleles\",sep = ' ',header = False,index = False)\n",
    "dffre.to_csv(\"EastAsia3.F\",sep = ' ',header = False,index = False)"
   ]
  }
 ],
 "metadata": {
  "kernelspec": {
   "display_name": "bioinformatics",
   "language": "python",
   "name": "python3"
  },
  "language_info": {
   "codemirror_mode": {
    "name": "ipython",
    "version": 3
   },
   "file_extension": ".py",
   "mimetype": "text/x-python",
   "name": "python",
   "nbconvert_exporter": "python",
   "pygments_lexer": "ipython3",
   "version": "3.10.6"
  },
  "orig_nbformat": 4,
  "vscode": {
   "interpreter": {
    "hash": "1958978c2497e964c1b57907faa928d5d036f1ea3b7764fa82b830495842c4aa"
   }
  }
 },
 "nbformat": 4,
 "nbformat_minor": 2
}
